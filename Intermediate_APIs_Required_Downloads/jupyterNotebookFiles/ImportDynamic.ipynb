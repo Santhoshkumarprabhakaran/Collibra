{
 "cells": [
  {
   "cell_type": "code",
   "execution_count": 2,
   "metadata": {},
   "outputs": [],
   "source": [
    "import requests\n",
    "import time\n",
    "import json\n",
    "import base64\n",
    "from string import Template \n",
    "\n",
    "# Fill in Collibra Connection info\n",
    "COLLIBRA_API_URL = 'https://<instanceURL>/rest/2.0'\n",
    "USERNAME = '<your username>'\n",
    "\n",
    "# Base64 Encoded password decoded to a UTF8 string\n",
    "PASSWORD = base64.b64decode('<yourEncodedPassword>'.encode('utf-8')).decode('utf-8')\n",
    "\n",
    "# JSON Template File Locations\n",
    "DOMAIN_JSON_FILE = '<specify the location of your Domain Template>'\n",
    "ASSET_JSON_FILE = '<specify the location of your Asset Template>'\n",
    "COMPLEXREL_JSON_FILE = '<specify the location of your Complex Relation Template>'\n",
    "\n",
    "# Gets created/overwritten each run\n",
    "DYNAMIC_JSON_FILE = '<specify the location of your Dynamic JSON File>'\n",
    "\n",
    "# Duration in seconds before polling job status again.\n",
    "WAIT_DURATION = 2"
   ]
  },
  {
   "cell_type": "code",
   "execution_count": 3,
   "metadata": {},
   "outputs": [],
   "source": [
    "# Read the 3 JSON templates into variables\n",
    "with open(DOMAIN_JSON_FILE, 'r') as content_file:\n",
    "    domainTemplate = Template(content_file.read())\n",
    "\n",
    "with open(ASSET_JSON_FILE, 'r') as content_file:\n",
    "    assetTemplate = Template(content_file.read())\n",
    "    \n",
    "with open(COMPLEXREL_JSON_FILE, 'r') as content_file:\n",
    "    complexRelTemplate = Template(content_file.read())\n",
    "\n",
    "# Create Domain Function\n",
    "def create_domain(domainName, domainType, communityName):\n",
    "    json = domainTemplate.substitute(insertyourDomainNameVariable=domainName, insertyourDomainTypeVariable=domainType, insertyourCommunityNameVariable=communityName)\n",
    "    return json\n",
    "\n",
    "# Create Asset Function\n",
    "def create_asset(assetName, assetType, domainName, communityName):\n",
    "    json = assetTemplate.substitute(insertyourAssetNameVariable=assetName, insertyourAssetTypeVariable=assetType, \n",
    "                                         insertyourDomainNameVariable=domainName, insertyourCommunityNameVariable=communityName)\n",
    "    return json\n",
    "\n",
    "# Create ComplexRel Function\n",
    "def create_complexRel(assetName1, assetName2, \n",
    "                      assetName3, domainName1, domainName2, communityName, transformationLogic):\n",
    "    json = complexRelTemplate.substitute(insertyourAsset1NameVariable=assetName1, insertyourAsset2NameVariable=assetName2, \n",
    "                      insertyourAsset3NameVariable=assetName3, insertyourDomain1NameVariable=domainName1, \n",
    "                     insertyourDomain2NameVariable=domainName2, insertyourCommunity1NameVariable=communityName, insertyourTransformationLogicVariable=transformationLogic)\n",
    "\n",
    "    return json"
   ]
  },
  {
   "cell_type": "code",
   "execution_count": null,
   "metadata": {},
   "outputs": [],
   "source": [
    "# Build the Import JSON Request\n",
    "print('********************* Building Dynamic JSON Template *********************')\n",
    "jsonList = [create_domain('<your_initials>_CRM', 'Data Asset Domain','Intermediate APIs')]\n",
    "jsonList.append(create_domain('<your_initials>_Source to Target Mappings', 'Mapping Domain','Intermediate APIs'))\n",
    "jsonList.append(create_asset('Client Name', 'Data Element','<your_initials>_CRM', 'Intermediate APIs'))\n",
    "jsonList.append(create_asset('Client ID','Data Element','<your_initials>_CRM', 'Intermediate APIs'))\n",
    "jsonList.append(create_asset('SQL Server Mapping', 'Mapping Specification', '<your_initials>_Source to Target Mappings', 'Intermediate APIs'))\n",
    "jsonList.append(create_complexRel('Client Name', 'Client ID', 'SQL Server Mapping', \n",
    "                                    '<your_initials>_CRM', '<your_initials>_Source to Target Mappings', 'Intermediate APIs',\n",
    "                                   '`clientsWithType` AS select `client`.`client_id` AS `id`, concat( concat( `client`.`name`, ' ' ), `client`.`surname` ) AS `fullname`, `client_type`.`value` AS `client_type`, `client`.`email_address` AS `email_address` from ( `client` join `client_type` on (( `client`.`client_type` = `client_type`.`code` )));'))\n",
    "\n",
    "# Add the outer list brackets\n",
    "jsonData = json.loads('[' + ','.join(jsonList) + ']')\n",
    "jsonFormatted = json.dumps(jsonData,  indent=4)\n",
    "print(jsonFormatted)\n",
    "\n",
    "dynamicJSONfile = open(DYNAMIC_JSON_FILE, \"w\")\n",
    "n = dynamicJSONfile.write(jsonFormatted)\n",
    "dynamicJSONfile.close()\n",
    "\n",
    "files = {'file': open(DYNAMIC_JSON_FILE, 'rb')}\n",
    "\n"
   ]
  },
  {
   "cell_type": "code",
   "execution_count": null,
   "metadata": {},
   "outputs": [],
   "source": [
    "# Import the JSON data\n",
    "# If there is a hand-shake error after running this cell, comment out the files=files line and use the last line instead\n",
    "# Then rerun all the cells in this application\n",
    "print('********************* Starting Import *********************')\n",
    "\n",
    "response = requests.post(\n",
    "        COLLIBRA_API_URL + '/import/json-job', \n",
    "        auth=(USERNAME, PASSWORD),\n",
    "        files=files\n",
    "       #files=files, verify=False\n",
    "    )\n",
    "response.text"
   ]
  },
  {
   "cell_type": "code",
   "execution_count": 8,
   "metadata": {},
   "outputs": [],
   "source": [
    "# Read the returned job ID and state\n",
    "jobId = response.json()['id']\n",
    "state = response.json()['state']\n"
   ]
  },
  {
   "cell_type": "code",
   "execution_count": null,
   "metadata": {},
   "outputs": [],
   "source": [
    "# Wait for the import job to finish\n",
    "if state == 'WAITING':\n",
    "    \n",
    "    print('Waiting for import job to finish: ' + jobId)\n",
    "    \n",
    "    while state != 'COMPLETED' and state !='ERROR':\n",
    "        response = requests.get(\n",
    "            COLLIBRA_API_URL + '/jobs/' + jobId, \n",
    "            auth=(USERNAME, PASSWORD)\n",
    "        )\n",
    "        state = response.json()['state']\n",
    "        print('Current job state: ' + state)\n",
    "        time.sleep(WAIT_DURATION)\n",
    "   \n",
    "    print('Finished import job: ' + jobId)\n",
    "    print('********************* ALL DONE *********************') \n",
    "\n",
    "else:\n",
    "    raise ValueError('Collibra import job did not start correctly.')\n"
   ]
  }
 ],
 "metadata": {
  "kernelspec": {
   "display_name": "Python 3",
   "language": "python",
   "name": "python3"
  },
  "language_info": {
   "codemirror_mode": {
    "name": "ipython",
    "version": 3
   },
   "file_extension": ".py",
   "mimetype": "text/x-python",
   "name": "python",
   "nbconvert_exporter": "python",
   "pygments_lexer": "ipython3",
   "version": "3.7.4"
  }
 },
 "nbformat": 4,
 "nbformat_minor": 2
}
