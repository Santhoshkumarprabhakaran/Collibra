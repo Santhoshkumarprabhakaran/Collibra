{
 "cells": [
  {
   "cell_type": "code",
   "execution_count": 9,
   "metadata": {},
   "outputs": [],
   "source": [
    "import requests\n",
    "import sys\n",
    "import time\n",
    "import json\n",
    "import base64\n",
    "\n",
    "# Fill in Collibra Connection info\n",
    "COLLIBRA_API_URL = 'https://intapi-vlab.collibra.com/rest/2.0'\n",
    "USERNAME = 'apiuser'\n",
    "# base64 encoded/decoded password\n",
    "PASSWORD = base64.b64decode('Q29sbGlicmExMjMh'.encode('utf-8')).decode('utf-8')\n",
    "\n",
    "# Collibar JSON Search file (Body of Rest request)\n",
    "SEARCH_JSON_FILE = 'C:/Users/SP59/OneDrive - Capgemini/Documents/GitHub/Collibra/Intermediate_APIs_Required_Downloads/SKP_Search.json'\n",
    "\n",
    "# Duration in seconds before polling job status again.\n",
    "WAIT_DURATION = 2"
   ]
  },
  {
   "cell_type": "code",
   "execution_count": 11,
   "metadata": {},
   "outputs": [
    {
     "name": "stdout",
     "output_type": "stream",
     "text": [
      "************** Searching **************\n"
     ]
    },
    {
     "data": {
      "text/plain": [
       "'{\"total\":57,\"results\":[{\"resource\":{\"resourceType\":\"Asset\",\"id\":\"bfa6828a-621e-46d1-bd7e-7f2d30df6cd8\",\"createdBy\":\"068292c3-4a7f-4dc6-b834-7d02c39f5920\",\"createdOn\":1690556462828,\"lastModifiedOn\":1690556462905,\"name\":\"CLIENT ID\",\"displayName\":\"CLIENT ID\",\"type\":{\"id\":\"00000000-0000-0000-0000-000000031026\",\"name\":\"Data Element\"},\"tags\":[],\"status\":{\"id\":\"00000000-0000-0000-0000-000000005008\",\"name\":\"Candidate\"}}},{\"resource\":{\"resourceType\":\"Asset\",\"id\":\"519cfc81-1e31-4071-802d-1d0d428df0a7\",\"createdBy\":\"068292c3-4a7f-4dc6-b834-7d02c39f5920\",\"createdOn\":1668592852877,\"lastModifiedOn\":1668598517049,\"name\":\"Client ID\",\"displayName\":\"Client ID\",\"type\":{\"id\":\"00000000-0000-0000-0000-000000031026\",\"name\":\"Data Element\"},\"tags\":[],\"status\":{\"id\":\"00000000-0000-0000-0000-000000005008\",\"name\":\"Candidate\"}}},{\"resource\":{\"resourceType\":\"Asset\",\"id\":\"6fd746fd-4593-4218-a660-479b6670a709\",\"createdBy\":\"068292c3-4a7f-4dc6-b834-7d02c39f5920\",\"createdOn\":1690520606234,\"lastModifiedOn\":1690538234010,\"name\":\"Client ID\",\"displayName\":\"Client ID\",\"type\":{\"id\":\"00000000-0000-0000-0000-000000031026\",\"name\":\"Data Element\"},\"tags\":[],\"status\":{\"id\":\"00000000-0000-0000-0000-000000005008\",\"name\":\"Candidate\"}}},{\"resource\":{\"resourceType\":\"Asset\",\"id\":\"80946540-2ec9-4424-8754-27d370d7e140\",\"createdBy\":\"068292c3-4a7f-4dc6-b834-7d02c39f5920\",\"createdOn\":1683093234164,\"lastModifiedOn\":1683093234179,\"name\":\"Client ID\",\"displayName\":\"Client ID\",\"type\":{\"id\":\"00000000-0000-0000-0000-000000031026\",\"name\":\"Data Element\"},\"tags\":[],\"status\":{\"id\":\"00000000-0000-0000-0000-000000005008\",\"name\":\"Candidate\"}}},{\"resource\":{\"resourceType\":\"Asset\",\"id\":\"aa196195-85cb-4800-b7dc-5d1658b29d93\",\"createdBy\":\"068292c3-4a7f-4dc6-b834-7d02c39f5920\",\"createdOn\":1674027104836,\"lastModifiedOn\":1674839862482,\"name\":\"Client ID\",\"displayName\":\"Client ID\",\"type\":{\"id\":\"00000000-0000-0000-0000-000000031026\",\"name\":\"Data Element\"},\"tags\":[],\"status\":{\"id\":\"00000000-0000-0000-0000-000000005008\",\"name\":\"Candidate\"}}},{\"resource\":{\"resourceType\":\"Asset\",\"id\":\"b12b773d-69f1-4e4a-937e-1104699ba2f6\",\"createdBy\":\"068292c3-4a7f-4dc6-b834-7d02c39f5920\",\"createdOn\":1690647286329,\"lastModifiedOn\":1690653897168,\"name\":\"Client ID\",\"displayName\":\"Client ID\",\"type\":{\"id\":\"00000000-0000-0000-0000-000000031026\",\"name\":\"Data Element\"},\"tags\":[],\"status\":{\"id\":\"00000000-0000-0000-0000-000000005008\",\"name\":\"Candidate\"}}},{\"resource\":{\"resourceType\":\"Asset\",\"id\":\"c8bea394-378f-454b-91ba-151bf240bd51\",\"createdBy\":\"068292c3-4a7f-4dc6-b834-7d02c39f5920\",\"createdOn\":1662969634275,\"lastModifiedOn\":1662969634300,\"name\":\"Client ID\",\"displayName\":\"Client ID\",\"type\":{\"id\":\"00000000-0000-0000-0000-000000031026\",\"name\":\"Data Element\"},\"tags\":[],\"status\":{\"id\":\"00000000-0000-0000-0000-000000005008\",\"name\":\"Candidate\"}}},{\"resource\":{\"resourceType\":\"Asset\",\"id\":\"e4578d2f-b413-413b-8a82-a6eb2c20dcda\",\"createdBy\":\"068292c3-4a7f-4dc6-b834-7d02c39f5920\",\"createdOn\":1668664956537,\"lastModifiedOn\":1668682027430,\"name\":\"Client ID\",\"displayName\":\"Client ID\",\"type\":{\"id\":\"00000000-0000-0000-0000-000000031026\",\"name\":\"Data Element\"},\"tags\":[],\"status\":{\"id\":\"00000000-0000-0000-0000-000000005008\",\"name\":\"Candidate\"}}},{\"resource\":{\"resourceType\":\"Asset\",\"id\":\"0d434e71-85a1-4742-bcef-259d301cea30\",\"createdBy\":\"068292c3-4a7f-4dc6-b834-7d02c39f5920\",\"createdOn\":1647557020777,\"lastModifiedOn\":1647557020785,\"name\":\"Client ID\",\"displayName\":\"Client ID\",\"type\":{\"id\":\"00000000-0000-0000-0000-000000031026\",\"name\":\"Data Element\"},\"tags\":[],\"status\":{\"id\":\"00000000-0000-0000-0000-000000005008\",\"name\":\"Candidate\"}}},{\"resource\":{\"resourceType\":\"Asset\",\"id\":\"2fa8cba4-8a36-4b66-ba20-4dfe2f261bb7\",\"createdBy\":\"068292c3-4a7f-4dc6-b834-7d02c39f5920\",\"createdOn\":1668324386880,\"lastModifiedOn\":1668324386905,\"name\":\"Client ID\",\"displayName\":\"Client ID\",\"type\":{\"id\":\"00000000-0000-0000-0000-000000031026\",\"name\":\"Data Element\"},\"tags\":[],\"status\":{\"id\":\"00000000-0000-0000-0000-000000005008\",\"name\":\"Candidate\"}}},{\"resource\":{\"resourceType\":\"Asset\",\"id\":\"65b646ff-0198-4819-8ade-16d3b32d6ac5\",\"createdBy\":\"068292c3-4a7f-4dc6-b834-7d02c39f5920\",\"createdOn\":1664294292803,\"lastModifiedOn\":1664524738833,\"name\":\"Client ID\",\"displayName\":\"Client ID\",\"type\":{\"id\":\"00000000-0000-0000-0000-000000031026\",\"name\":\"Data Element\"},\"tags\":[],\"status\":{\"id\":\"00000000-0000-0000-0000-000000005008\",\"name\":\"Candidate\"}}},{\"resource\":{\"resourceType\":\"Asset\",\"id\":\"6d18973c-f459-4616-9a46-3142e7dd764d\",\"createdBy\":\"068292c3-4a7f-4dc6-b834-7d02c39f5920\",\"createdOn\":1673446431476,\"lastModifiedOn\":1673459479076,\"name\":\"Client ID\",\"displayName\":\"Client ID\",\"type\":{\"id\":\"00000000-0000-0000-0000-000000031026\",\"name\":\"Data Element\"},\"tags\":[],\"status\":{\"id\":\"00000000-0000-0000-0000-000000005008\",\"name\":\"Candidate\"}}},{\"resource\":{\"resourceType\":\"Asset\",\"id\":\"7d6b1c93-5134-48ad-80ef-9e76d1ec34a5\",\"createdBy\":\"068292c3-4a7f-4dc6-b834-7d02c39f5920\",\"createdOn\":1669740238404,\"lastModifiedOn\":1669740238438,\"name\":\"Client ID\",\"displayName\":\"Client ID\",\"type\":{\"id\":\"00000000-0000-0000-0000-000000031026\",\"name\":\"Data Element\"},\"tags\":[],\"status\":{\"id\":\"00000000-0000-0000-0000-000000005008\",\"name\":\"Candidate\"}}},{\"resource\":{\"resourceType\":\"Asset\",\"id\":\"8a970324-b2e8-4d42-93fa-beb0c1dda3f5\",\"createdBy\":\"068292c3-4a7f-4dc6-b834-7d02c39f5920\",\"createdOn\":1690543594090,\"lastModifiedOn\":1690554370618,\"name\":\"Client ID\",\"displayName\":\"Client ID\",\"type\":{\"id\":\"00000000-0000-0000-0000-000000031026\",\"name\":\"Data Element\"},\"tags\":[],\"status\":{\"id\":\"00000000-0000-0000-0000-000000005008\",\"name\":\"Candidate\"}}},{\"resource\":{\"resourceType\":\"Asset\",\"id\":\"d3efaad5-5c79-43a2-acaa-60970e9ee79d\",\"createdBy\":\"068292c3-4a7f-4dc6-b834-7d02c39f5920\",\"createdOn\":1660635347956,\"lastModifiedOn\":1660635347973,\"name\":\"Client ID\",\"displayName\":\"Client ID\",\"type\":{\"id\":\"00000000-0000-0000-0000-000000031026\",\"name\":\"Data Element\"},\"tags\":[],\"status\":{\"id\":\"00000000-0000-0000-0000-000000005008\",\"name\":\"Candidate\"}}},{\"resource\":{\"resourceType\":\"Asset\",\"id\":\"d97db252-57c5-4755-bcf0-31dc581b3843\",\"createdBy\":\"068292c3-4a7f-4dc6-b834-7d02c39f5920\",\"createdOn\":1660831083943,\"lastModifiedOn\":1660902616082,\"name\":\"Client ID\",\"displayName\":\"Client ID\",\"type\":{\"id\":\"00000000-0000-0000-0000-000000031026\",\"name\":\"Data Element\"},\"tags\":[],\"status\":{\"id\":\"00000000-0000-0000-0000-000000005008\",\"name\":\"Candidate\"}}},{\"resource\":{\"resourceType\":\"Asset\",\"id\":\"e3303299-b46d-46ed-9b20-8d23666c30a9\",\"createdBy\":\"068292c3-4a7f-4dc6-b834-7d02c39f5920\",\"createdOn\":1680233090657,\"lastModifiedOn\":1680490693258,\"name\":\"Client ID\",\"displayName\":\"Client ID\",\"type\":{\"id\":\"00000000-0000-0000-0000-000000031026\",\"name\":\"Data Element\"},\"tags\":[],\"status\":{\"id\":\"00000000-0000-0000-0000-000000005008\",\"name\":\"Candidate\"}}},{\"resource\":{\"resourceType\":\"Asset\",\"id\":\"e4eabaf2-97be-4fce-925e-e314225557e9\",\"createdBy\":\"068292c3-4a7f-4dc6-b834-7d02c39f5920\",\"createdOn\":1682043146482,\"lastModifiedOn\":1682046009304,\"name\":\"Client ID\",\"displayName\":\"Client ID\",\"type\":{\"id\":\"00000000-0000-0000-0000-000000031026\",\"name\":\"Data Element\"},\"tags\":[],\"status\":{\"id\":\"00000000-0000-0000-0000-000000005008\",\"name\":\"Candidate\"}}},{\"resource\":{\"resourceType\":\"Asset\",\"id\":\"e67a0e01-c111-47da-89e5-7922da076bcb\",\"createdBy\":\"068292c3-4a7f-4dc6-b834-7d02c39f5920\",\"createdOn\":1674493316587,\"lastModifiedOn\":1674493316602,\"name\":\"Client ID\",\"displayName\":\"Client ID\",\"type\":{\"id\":\"00000000-0000-0000-0000-000000031026\",\"name\":\"Data Element\"},\"tags\":[],\"status\":{\"id\":\"00000000-0000-0000-0000-000000005008\",\"name\":\"Candidate\"}}},{\"resource\":{\"resourceType\":\"Asset\",\"id\":\"f37d8838-0932-4734-95a6-1da9d0f1910d\",\"createdBy\":\"068292c3-4a7f-4dc6-b834-7d02c39f5920\",\"createdOn\":1674820674129,\"lastModifiedOn\":1674829980771,\"name\":\"Client ID\",\"displayName\":\"Client ID\",\"type\":{\"id\":\"00000000-0000-0000-0000-000000031026\",\"name\":\"Data Element\"},\"tags\":[],\"status\":{\"id\":\"00000000-0000-0000-0000-000000005008\",\"name\":\"Candidate\"}}}]}'"
      ]
     },
     "execution_count": 11,
     "metadata": {},
     "output_type": "execute_result"
    }
   ],
   "source": [
    "# Read the contents of the Search JSON file. This will be the body of the Rest request\n",
    "# If there is a hand-shake error after running this cell, comment out the data=body line and use the last line instead\n",
    "# Then rerun all the cells in this application\n",
    "with open(SEARCH_JSON_FILE, 'r') as content_file:\n",
    "    body = json.dumps(json.loads(content_file.read()))\n",
    "\n",
    "print('************** Searching **************')\n",
    "    \n",
    "response = requests.post(\n",
    "        COLLIBRA_API_URL + '/search', \n",
    "        auth=(USERNAME, PASSWORD),\n",
    "        headers={'Accept': 'application/json', 'Content-Type': 'application/json'},\n",
    "        data = body\n",
    "        #data = body, verify = False\n",
    "    )\n",
    "response.text"
   ]
  },
  {
   "cell_type": "code",
   "execution_count": 12,
   "metadata": {},
   "outputs": [
    {
     "name": "stdout",
     "output_type": "stream",
     "text": [
      "Total assets returned: 57\n",
      "First row returned asset name: CLIENT ID\n",
      "First row returned asset ID: bfa6828a-621e-46d1-bd7e-7f2d30df6cd8\n"
     ]
    }
   ],
   "source": [
    "# Read the Asset Id from the returned results\n",
    "total = int(response.json()['total'])\n",
    "assetId = None\n",
    "if(total >=1):\n",
    "    \n",
    "    print('Total assets returned: ' + str(total))\n",
    "    \n",
    "    # Read the first asset returned\n",
    "    results = response.json()['results']          \n",
    "    assetId = results[0]['resource']['id']\n",
    "    assetName = results[0]['resource']['displayName']\n",
    "    print('First row returned asset name: ' + assetName)\n",
    "    print('First row returned asset ID: ' + assetId)\n",
    "    \n",
    "else:\n",
    "    print('No assets found from search query.')\n",
    "    \n",
    "\n"
   ]
  },
  {
   "cell_type": "code",
   "execution_count": 14,
   "metadata": {},
   "outputs": [
    {
     "name": "stdout",
     "output_type": "stream",
     "text": [
      "************** Retrieving Asset attributes **************\n",
      "{\n",
      "    \"limit\": 1000,\n",
      "    \"offset\": 0,\n",
      "    \"results\": [\n",
      "        {\n",
      "            \"asset\": {\n",
      "                \"id\": \"bfa6828a-621e-46d1-bd7e-7f2d30df6cd8\",\n",
      "                \"name\": \"CLIENT ID\",\n",
      "                \"resourceType\": \"Asset\"\n",
      "            },\n",
      "            \"createdBy\": \"068292c3-4a7f-4dc6-b834-7d02c39f5920\",\n",
      "            \"createdOn\": 1690556462861,\n",
      "            \"id\": \"ea0e8029-ac16-477c-a7ad-9afd0d016354\",\n",
      "            \"lastModifiedBy\": \"068292c3-4a7f-4dc6-b834-7d02c39f5920\",\n",
      "            \"lastModifiedOn\": 1690556462904,\n",
      "            \"resourceType\": \"StringAttribute\",\n",
      "            \"system\": false,\n",
      "            \"type\": {\n",
      "                \"id\": \"00000000-0000-0000-0000-000000003115\",\n",
      "                \"name\": \"Descriptive Example\",\n",
      "                \"resourceType\": \"StringAttributeType\"\n",
      "            },\n",
      "            \"value\": \"16534\"\n",
      "        },\n",
      "        {\n",
      "            \"asset\": {\n",
      "                \"id\": \"bfa6828a-621e-46d1-bd7e-7f2d30df6cd8\",\n",
      "                \"name\": \"CLIENT ID\",\n",
      "                \"resourceType\": \"Asset\"\n",
      "            },\n",
      "            \"createdBy\": \"068292c3-4a7f-4dc6-b834-7d02c39f5920\",\n",
      "            \"createdOn\": 1690556462860,\n",
      "            \"id\": \"01f8532e-3092-4a59-a8fd-188ea946b009\",\n",
      "            \"lastModifiedBy\": \"068292c3-4a7f-4dc6-b834-7d02c39f5920\",\n",
      "            \"lastModifiedOn\": 1690556462904,\n",
      "            \"resourceType\": \"StringAttribute\",\n",
      "            \"system\": false,\n",
      "            \"type\": {\n",
      "                \"id\": \"00000000-0000-0000-0000-000000003114\",\n",
      "                \"name\": \"Description\",\n",
      "                \"resourceType\": \"StringAttributeType\"\n",
      "            },\n",
      "            \"value\": \"Identifies unique users of our website\"\n",
      "        }\n",
      "    ],\n",
      "    \"total\": 2\n",
      "}\n",
      "************** All Done **************\n"
     ]
    }
   ],
   "source": [
    "# Get all the contents of the asset\n",
    "# If there is a hand-shake error after running this cell, comment out the header line and use the last line instead\n",
    "# Then rerun all the cells in this application\n",
    "if(assetId !=None):\n",
    "    \n",
    "    print('************** Retrieving Asset attributes **************')\n",
    "    \n",
    "    response = requests.get(\n",
    "            COLLIBRA_API_URL + '/attributes?offset=0&limit=0&assetId=' + assetId + '&sortOrder=DESC&sortField=LAST_MODIFIED', \n",
    "            auth=(USERNAME, PASSWORD),\n",
    "            headers={'Accept': 'application/json'}\n",
    "            #headers={'Accept': 'application/json'}, verify = False\n",
    "    )\n",
    "    print(json.dumps(json.loads(response.text),indent=4, sort_keys=True)) \n",
    "    \n",
    "    \n",
    "print('************** All Done **************')\n"
   ]
  },
  {
   "cell_type": "code",
   "execution_count": null,
   "metadata": {},
   "outputs": [],
   "source": []
  }
 ],
 "metadata": {
  "kernelspec": {
   "display_name": "Python 3 (ipykernel)",
   "language": "python",
   "name": "python3"
  },
  "language_info": {
   "codemirror_mode": {
    "name": "ipython",
    "version": 3
   },
   "file_extension": ".py",
   "mimetype": "text/x-python",
   "name": "python",
   "nbconvert_exporter": "python",
   "pygments_lexer": "ipython3",
   "version": "3.10.3"
  }
 },
 "nbformat": 4,
 "nbformat_minor": 4
}
