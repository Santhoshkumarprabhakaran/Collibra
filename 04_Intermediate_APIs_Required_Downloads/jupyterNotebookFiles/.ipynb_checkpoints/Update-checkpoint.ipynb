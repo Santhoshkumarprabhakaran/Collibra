{
 "cells": [
  {
   "cell_type": "code",
   "execution_count": 2,
   "metadata": {},
   "outputs": [],
   "source": [
    "import requests\n",
    "import sys\n",
    "import time\n",
    "import base64\n",
    "\n",
    "# Fill in Collibra Connection info\n",
    "COLLIBRA_API_URL = 'https://intapi-vlab.collibra.com/rest/2.0'\n",
    "USERNAME = 'apiuser'\n",
    "# base64 encode/decode password\n",
    "PASSWORD = base64.b64decode('Q29sbGlicmExMjMh'.encode('utf-8')).decode('utf-8')\n",
    "\n",
    "# Collibar JSON Import file to import\n",
    "IMPORT_JSON_FILE = 'C://Users//SP59//OneDrive - Capgemini//Documents//GitHub//Collibra//Intermediate_APIs_Required_Downloads//SKP_Update.json'\n",
    "\n",
    "# Duration in seconds before polling job status again.\n",
    "WAIT_DURATION = 2"
   ]
  },
  {
   "cell_type": "code",
   "execution_count": 3,
   "metadata": {},
   "outputs": [
    {
     "name": "stdout",
     "output_type": "stream",
     "text": [
      "********************* Starting Import *********************\n"
     ]
    },
    {
     "data": {
      "text/plain": [
       "'{\"id\":\"018de5d5-fd66-7966-8598-e7d52f793fff\",\"createdBy\":\"068292c3-4a7f-4dc6-b834-7d02c39f5920\",\"createdOn\":1708958023014,\"system\":false,\"resourceType\":\"Job\",\"name\":\"Import \\'import_file\\'\",\"type\":\"IMPORT\",\"userId\":\"068292c3-4a7f-4dc6-b834-7d02c39f5920\",\"visibility\":0,\"progressPercentage\":0.0,\"cancelable\":true,\"state\":\"WAITING\",\"result\":\"NOT_SET\"}'"
      ]
     },
     "execution_count": 3,
     "metadata": {},
     "output_type": "execute_result"
    }
   ],
   "source": [
    "# Import the metadata into Collibra\n",
    "# If there is a hand-shake error after running this cell, comment out the files=files line and use the last lines instead\n",
    "# Then rerun all the cells in this application\n",
    "files = {'file': open(IMPORT_JSON_FILE, 'rb')}\n",
    "\n",
    "print('********************* Starting Import *********************')\n",
    "\n",
    "response = requests.post(\n",
    "        COLLIBRA_API_URL + '/import/json-job', \n",
    "        auth=(USERNAME, PASSWORD),\n",
    "        files=files\n",
    "        #files=files, verify = False\n",
    "    )\n",
    "response.text"
   ]
  },
  {
   "cell_type": "code",
   "execution_count": 4,
   "metadata": {},
   "outputs": [],
   "source": [
    "# Read the returned job ID and state\n",
    "jobId = response.json()['id']\n",
    "state = response.json()['state']\n"
   ]
  },
  {
   "cell_type": "code",
   "execution_count": 5,
   "metadata": {},
   "outputs": [
    {
     "name": "stdout",
     "output_type": "stream",
     "text": [
      "Waiting for import job to finish: 018de5d5-fd66-7966-8598-e7d52f793fff\n",
      "Current job state: COMPLETED\n",
      "Finished import job: 018de5d5-fd66-7966-8598-e7d52f793fff\n",
      "********************* ALL DONE *********************\n"
     ]
    }
   ],
   "source": [
    "# Wait for the import job to finish\n",
    "# If there is a hand-shake error after running this cell, comment out the auth=USERNAME, PASSWORD line and use the last lines instead\n",
    "# Then rerun all the cells in this application\n",
    "if state == 'WAITING':\n",
    "    \n",
    "    print('Waiting for import job to finish: ' + jobId)\n",
    "    \n",
    "    while state != 'COMPLETED' and state !='ERROR':\n",
    "        response = requests.get(\n",
    "            COLLIBRA_API_URL + '/jobs/' + jobId, \n",
    "            auth=(USERNAME, PASSWORD)\n",
    "            #auth=(USERNAME, PASSWORD), verify = False\n",
    "        )\n",
    "        state = response.json()['state']\n",
    "        print('Current job state: ' + state)\n",
    "        time.sleep(WAIT_DURATION)\n",
    "   \n",
    "    print('Finished import job: ' + jobId)\n",
    "    print('********************* ALL DONE *********************')\n",
    "        \n",
    "\n",
    "else:\n",
    "    raise ValueError('Collibra import job did not start correctly.')\n"
   ]
  },
  {
   "cell_type": "code",
   "execution_count": null,
   "metadata": {},
   "outputs": [],
   "source": []
  }
 ],
 "metadata": {
  "kernelspec": {
   "display_name": "Python 3 (ipykernel)",
   "language": "python",
   "name": "python3"
  },
  "language_info": {
   "codemirror_mode": {
    "name": "ipython",
    "version": 3
   },
   "file_extension": ".py",
   "mimetype": "text/x-python",
   "name": "python",
   "nbconvert_exporter": "python",
   "pygments_lexer": "ipython3",
   "version": "3.10.3"
  }
 },
 "nbformat": 4,
 "nbformat_minor": 4
}
