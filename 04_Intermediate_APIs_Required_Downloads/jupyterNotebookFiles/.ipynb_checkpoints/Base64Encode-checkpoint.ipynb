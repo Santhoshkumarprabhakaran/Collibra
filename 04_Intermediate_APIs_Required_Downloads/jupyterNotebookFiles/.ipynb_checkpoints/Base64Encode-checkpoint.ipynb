{
 "cells": [
  {
   "cell_type": "code",
   "execution_count": 1,
   "metadata": {},
   "outputs": [],
   "source": [
    "import base64\n",
    "\n",
    "# Returns a base64 encoded byte array\n",
    "encoded = base64.b64encode('5@nC0ll12345'.encode())"
   ]
  },
  {
   "cell_type": "code",
   "execution_count": 2,
   "metadata": {},
   "outputs": [
    {
     "name": "stdout",
     "output_type": "stream",
     "text": [
      "base64 encoded: NUBuQzBsbDEyMzQ1\n",
      "base64 decoded: 5@nC0ll12345\n"
     ]
    }
   ],
   "source": [
    "print('base64 encoded: ' + encoded.decode('utf-8'))\n",
    "\n",
    "# Returns a decoded byte array\n",
    "decoded = base64.b64decode(encoded.decode('utf-8'))\n",
    "\n",
    "# Convert byte array to string\n",
    "print('base64 decoded: ' + decoded.decode('utf-8'))\n"
   ]
  },
  {
   "cell_type": "code",
   "execution_count": null,
   "metadata": {},
   "outputs": [],
   "source": []
  }
 ],
 "metadata": {
  "kernelspec": {
   "display_name": "Python 3 (ipykernel)",
   "language": "python",
   "name": "python3"
  },
  "language_info": {
   "codemirror_mode": {
    "name": "ipython",
    "version": 3
   },
   "file_extension": ".py",
   "mimetype": "text/x-python",
   "name": "python",
   "nbconvert_exporter": "python",
   "pygments_lexer": "ipython3",
   "version": "3.10.3"
  }
 },
 "nbformat": 4,
 "nbformat_minor": 4
}
