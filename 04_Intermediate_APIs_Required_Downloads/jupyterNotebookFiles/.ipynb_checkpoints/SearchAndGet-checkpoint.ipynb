{
 "cells": [
  {
   "cell_type": "code",
   "execution_count": 3,
   "metadata": {},
   "outputs": [],
   "source": [
    "import requests\n",
    "import sys\n",
    "import time\n",
    "import json\n",
    "import base64\n",
    "\n",
    "# Fill in Collibra Connection info\n",
    "COLLIBRA_API_URL = 'https://intapi-vlab.collibra.com/rest/2.0'\n",
    "USERNAME = 'santhosh-kumarp2'\n",
    "# base64 encoded/decoded password\n",
    "PASSWORD = base64.b64decode('NUBuQzBsbDEyMzQ1'.encode('utf-8')).decode('utf-8')\n",
    "\n",
    "# Collibar JSON Search file (Body of Rest request)\n",
    "SEARCH_JSON_FILE = 'C://Users//SP59//OneDrive - Capgemini//Documents//GitHub//Collibra//Intermediate_APIs_Required_Downloads//SKP_Search.json'\n",
    "\n",
    "# Duration in seconds before polling job status again.\n",
    "WAIT_DURATION = 2"
   ]
  },
  {
   "cell_type": "code",
   "execution_count": 4,
   "metadata": {},
   "outputs": [
    {
     "name": "stdout",
     "output_type": "stream",
     "text": [
      "************** Searching **************\n"
     ]
    },
    {
     "data": {
      "text/plain": [
       "'{\"statusCode\":401,\"titleMessage\":\"Unauthorized\",\"helpMessage\":\"Please check the application logs for more information.\",\"userMessage\":\"Failed to authenticate request through basic credentials\",\"errorCode\":\"authenticationFailed\"}'"
      ]
     },
     "execution_count": 4,
     "metadata": {},
     "output_type": "execute_result"
    }
   ],
   "source": [
    "# Read the contents of the Search JSON file. This will be the body of the Rest request\n",
    "# If there is a hand-shake error after running this cell, comment out the data=body line and use the last line instead\n",
    "# Then rerun all the cells in this application\n",
    "with open(SEARCH_JSON_FILE, 'r') as content_file:\n",
    "    body = json.dumps(json.loads(content_file.read()))\n",
    "\n",
    "print('************** Searching **************')\n",
    "    \n",
    "response = requests.post(\n",
    "        COLLIBRA_API_URL + '/search', \n",
    "        auth=(USERNAME, PASSWORD),\n",
    "        headers={'Accept': 'application/json', 'Content-Type': 'application/json'},\n",
    "        data = body\n",
    "        #data = body, verify = False\n",
    "    )\n",
    "response.text"
   ]
  },
  {
   "cell_type": "code",
   "execution_count": null,
   "metadata": {},
   "outputs": [],
   "source": [
    "# Read the Asset Id from the returned results\n",
    "total = int(response.json()['total'])\n",
    "assetId = None\n",
    "if(total >=1):\n",
    "    \n",
    "    print('Total assets returned: ' + str(total))\n",
    "    \n",
    "    # Read the first asset returned\n",
    "    results = response.json()['results']          \n",
    "    assetId = results[0]['resource']['id']\n",
    "    assetName = results[0]['resource']['displayName']\n",
    "    print('First row returned asset name: ' + assetName)\n",
    "    print('First row returned asset ID: ' + assetId)\n",
    "    \n",
    "else:\n",
    "    print('No assets found from search query.')\n",
    "    \n",
    "\n"
   ]
  },
  {
   "cell_type": "code",
   "execution_count": null,
   "metadata": {},
   "outputs": [],
   "source": [
    "# Get all the contents of the asset\n",
    "# If there is a hand-shake error after running this cell, comment out the header line and use the last line instead\n",
    "# Then rerun all the cells in this application\n",
    "if(assetId !=None):\n",
    "    \n",
    "    print('************** Retrieving Asset attributes **************')\n",
    "    \n",
    "    response = requests.get(\n",
    "            COLLIBRA_API_URL + '/attributes?offset=0&limit=0&assetId=' + assetId + '&sortOrder=DESC&sortField=LAST_MODIFIED', \n",
    "            auth=(USERNAME, PASSWORD),\n",
    "            headers={'Accept': 'application/json'}\n",
    "            #headers={'Accept': 'application/json'}, verify = False\n",
    "    )\n",
    "    print(json.dumps(json.loads(response.text),indent=4, sort_keys=True)) \n",
    "    \n",
    "    \n",
    "print('************** All Done **************')\n"
   ]
  }
 ],
 "metadata": {
  "kernelspec": {
   "display_name": "Python 3 (ipykernel)",
   "language": "python",
   "name": "python3"
  },
  "language_info": {
   "codemirror_mode": {
    "name": "ipython",
    "version": 3
   },
   "file_extension": ".py",
   "mimetype": "text/x-python",
   "name": "python",
   "nbconvert_exporter": "python",
   "pygments_lexer": "ipython3",
   "version": "3.10.3"
  }
 },
 "nbformat": 4,
 "nbformat_minor": 4
}
